{
 "cells": [
  {
   "attachments": {},
   "cell_type": "markdown",
   "metadata": {},
   "source": [
    "# Atahar Imtiaz"
   ]
  },
  {
   "cell_type": "markdown",
   "metadata": {},
   "source": [
    "## Research question/interests\n",
    "\n",
    "Briefly describe your research question or interests here."
   ]
  },
  {
   "cell_type": "code",
   "execution_count": null,
   "metadata": {},
   "outputs": [],
   "source": [
    "#Premier League Players\n",
    "\n",
    "**Our data works with Goals(denoted as G), Expected Goals(denoted as xG), Assists(denoted as A), Expected Assists(denoted as xA), Goals per 90 minutes(denoted as xG90), Assists per 90 minutes(denoted as xA90).\n",
    "Our goal is to find the correlation between G and xG, A and xA, and how xA90 contributes to xG90 and overall the coherency of the data.**\n",
    "\n",
    "Each of us will be working with different sets of the data present, where my accountability would be for the relation between A and xA, how both of these sets of data correlate to each other.\n"
   ]
  },
  {
   "cell_type": "code",
   "execution_count": null,
   "metadata": {},
   "outputs": [],
   "source": [
    "import pandas as pd\n",
    "import csv\n",
    "df = pd.read_csv(r'C:\\DATA301\\group26\\data\\raw\\Premier_League_players.csv')"
   ]
  },
  {
   "cell_type": "code",
   "execution_count": null,
   "metadata": {},
   "outputs": [
    {
     "name": "stdout",
     "output_type": "stream",
     "text": [
      "       №              Player                     Team  Apps   Min   G   A  \\\n",
      "0      1       Son Heung-Min                Tottenham    35  3051  23   7   \n",
      "1      2       Mohamed Salah                Liverpool    35  2757  23  13   \n",
      "2      3   Cristiano Ronaldo        Manchester United    30  2468  18   3   \n",
      "3      4          Harry Kane                Tottenham    37  3229  17   9   \n",
      "4      5          Sadio Mané                Liverpool    34  2833  16   2   \n",
      "..   ...                 ...                      ...   ...   ...  ..  ..   \n",
      "532  533           Chiquinho  Wolverhampton Wanderers     8   191   0   3   \n",
      "533  534        Josh Dasilva                Brentford     9   242   0   0   \n",
      "534  535     Daniel Chesters                 West Ham     1     1   0   0   \n",
      "535  536      Tony Springett                  Norwich     3   138   0   0   \n",
      "536  537  Alejandro Garnacho        Manchester United     2    11   0   0   \n",
      "\n",
      "             xG         xA  xG90  xA90  \n",
      "0    16.99-6.01  7.85+0.85  0.50  0.23  \n",
      "1    24.36+1.36  9.79-3.21  0.80  0.32  \n",
      "2    17.21-0.79  4.42+1.42  0.63  0.16  \n",
      "3    20.69+3.69  9.82+0.82  0.58  0.27  \n",
      "4    16.83+0.83  5.27+3.27  0.53  0.17  \n",
      "..          ...        ...   ...   ...  \n",
      "532   0.56+0.56  1.09-1.91  0.26  0.51  \n",
      "533   0.10+0.10  0.18+0.18  0.04  0.07  \n",
      "534           0          0  0.00  0.00  \n",
      "535   0.52+0.52  0.51+0.51  0.34  0.34  \n",
      "536           0          0  0.00  0.00  \n",
      "\n",
      "[537 rows x 11 columns]\n"
     ]
    }
   ],
   "source": [
    "print(df)"
   ]
  },
  {
   "cell_type": "code",
   "execution_count": null,
   "metadata": {},
   "outputs": [],
   "source": []
  }
 ],
 "metadata": {
  "kernelspec": {
   "display_name": "Python 3 (ipykernel)",
   "language": "python",
   "name": "python3"
  }
 },
 "nbformat": 4,
 "nbformat_minor": 4
}
