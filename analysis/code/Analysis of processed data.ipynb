{
 "cells": [
  {
   "cell_type": "markdown",
   "id": "b614c129-2fcf-4a2f-9ded-59b447a2aea7",
   "metadata": {},
   "source": [
    "Including the dataset"
   ]
  },
  {
   "cell_type": "code",
   "execution_count": null,
   "id": "8a6d80c3-ee6e-4ebc-a140-b302d28b2fe6",
   "metadata": {},
   "outputs": [
    {
     "data": {
      "text/html": [
       "<div>\n",
       "<style scoped>\n",
       "    .dataframe tbody tr th:only-of-type {\n",
       "        vertical-align: middle;\n",
       "    }\n",
       "\n",
       "    .dataframe tbody tr th {\n",
       "        vertical-align: top;\n",
       "    }\n",
       "\n",
       "    .dataframe thead th {\n",
       "        text-align: right;\n",
       "    }\n",
       "</style>\n",
       "<table border=\"1\" class=\"dataframe\">\n",
       "  <thead>\n",
       "    <tr style=\"text-align: right;\">\n",
       "      <th></th>\n",
       "      <th>№</th>\n",
       "      <th>Player</th>\n",
       "      <th>Team</th>\n",
       "      <th>Apps</th>\n",
       "      <th>Min</th>\n",
       "      <th>G</th>\n",
       "      <th>A</th>\n",
       "      <th>xG</th>\n",
       "      <th>G - xG</th>\n",
       "      <th>xA</th>\n",
       "      <th>xA - A</th>\n",
       "      <th>xG90</th>\n",
       "      <th>xA90</th>\n",
       "    </tr>\n",
       "  </thead>\n",
       "  <tbody>\n",
       "    <tr>\n",
       "      <th>0</th>\n",
       "      <td>1</td>\n",
       "      <td>Son Heung-Min</td>\n",
       "      <td>Tottenham</td>\n",
       "      <td>35</td>\n",
       "      <td>3051</td>\n",
       "      <td>23</td>\n",
       "      <td>7</td>\n",
       "      <td>16.99</td>\n",
       "      <td>6.01</td>\n",
       "      <td>7.85</td>\n",
       "      <td>-0.85</td>\n",
       "      <td>0.50</td>\n",
       "      <td>0.23</td>\n",
       "    </tr>\n",
       "    <tr>\n",
       "      <th>1</th>\n",
       "      <td>2</td>\n",
       "      <td>Mohamed Salah</td>\n",
       "      <td>Liverpool</td>\n",
       "      <td>35</td>\n",
       "      <td>2757</td>\n",
       "      <td>23</td>\n",
       "      <td>13</td>\n",
       "      <td>24.36</td>\n",
       "      <td>-1.36</td>\n",
       "      <td>9.79</td>\n",
       "      <td>3.21</td>\n",
       "      <td>0.80</td>\n",
       "      <td>0.32</td>\n",
       "    </tr>\n",
       "    <tr>\n",
       "      <th>2</th>\n",
       "      <td>3</td>\n",
       "      <td>Cristiano Ronaldo</td>\n",
       "      <td>Manchester United</td>\n",
       "      <td>30</td>\n",
       "      <td>2468</td>\n",
       "      <td>18</td>\n",
       "      <td>3</td>\n",
       "      <td>17.21</td>\n",
       "      <td>0.79</td>\n",
       "      <td>4.42</td>\n",
       "      <td>-1.42</td>\n",
       "      <td>0.63</td>\n",
       "      <td>0.16</td>\n",
       "    </tr>\n",
       "    <tr>\n",
       "      <th>3</th>\n",
       "      <td>4</td>\n",
       "      <td>Harry Kane</td>\n",
       "      <td>Tottenham</td>\n",
       "      <td>37</td>\n",
       "      <td>3229</td>\n",
       "      <td>17</td>\n",
       "      <td>9</td>\n",
       "      <td>20.69</td>\n",
       "      <td>-3.69</td>\n",
       "      <td>9.82</td>\n",
       "      <td>-0.82</td>\n",
       "      <td>0.58</td>\n",
       "      <td>0.27</td>\n",
       "    </tr>\n",
       "    <tr>\n",
       "      <th>4</th>\n",
       "      <td>5</td>\n",
       "      <td>Sadio Mané</td>\n",
       "      <td>Liverpool</td>\n",
       "      <td>34</td>\n",
       "      <td>2833</td>\n",
       "      <td>16</td>\n",
       "      <td>2</td>\n",
       "      <td>16.83</td>\n",
       "      <td>-0.83</td>\n",
       "      <td>5.27</td>\n",
       "      <td>-3.27</td>\n",
       "      <td>0.53</td>\n",
       "      <td>0.17</td>\n",
       "    </tr>\n",
       "    <tr>\n",
       "      <th>...</th>\n",
       "      <td>...</td>\n",
       "      <td>...</td>\n",
       "      <td>...</td>\n",
       "      <td>...</td>\n",
       "      <td>...</td>\n",
       "      <td>...</td>\n",
       "      <td>...</td>\n",
       "      <td>...</td>\n",
       "      <td>...</td>\n",
       "      <td>...</td>\n",
       "      <td>...</td>\n",
       "      <td>...</td>\n",
       "      <td>...</td>\n",
       "    </tr>\n",
       "    <tr>\n",
       "      <th>532</th>\n",
       "      <td>533</td>\n",
       "      <td>Chiquinho</td>\n",
       "      <td>Wolverhampton Wanderers</td>\n",
       "      <td>8</td>\n",
       "      <td>191</td>\n",
       "      <td>0</td>\n",
       "      <td>3</td>\n",
       "      <td>0.56</td>\n",
       "      <td>-0.56</td>\n",
       "      <td>1.09</td>\n",
       "      <td>1.91</td>\n",
       "      <td>0.26</td>\n",
       "      <td>0.51</td>\n",
       "    </tr>\n",
       "    <tr>\n",
       "      <th>533</th>\n",
       "      <td>534</td>\n",
       "      <td>Josh Dasilva</td>\n",
       "      <td>Brentford</td>\n",
       "      <td>9</td>\n",
       "      <td>242</td>\n",
       "      <td>0</td>\n",
       "      <td>0</td>\n",
       "      <td>0.10</td>\n",
       "      <td>-0.10</td>\n",
       "      <td>0.18</td>\n",
       "      <td>-0.18</td>\n",
       "      <td>0.04</td>\n",
       "      <td>0.07</td>\n",
       "    </tr>\n",
       "    <tr>\n",
       "      <th>534</th>\n",
       "      <td>535</td>\n",
       "      <td>Daniel Chesters</td>\n",
       "      <td>West Ham</td>\n",
       "      <td>1</td>\n",
       "      <td>1</td>\n",
       "      <td>0</td>\n",
       "      <td>0</td>\n",
       "      <td>0.00</td>\n",
       "      <td>0.00</td>\n",
       "      <td>0.00</td>\n",
       "      <td>0.00</td>\n",
       "      <td>0.00</td>\n",
       "      <td>0.00</td>\n",
       "    </tr>\n",
       "    <tr>\n",
       "      <th>535</th>\n",
       "      <td>536</td>\n",
       "      <td>Tony Springett</td>\n",
       "      <td>Norwich</td>\n",
       "      <td>3</td>\n",
       "      <td>138</td>\n",
       "      <td>0</td>\n",
       "      <td>0</td>\n",
       "      <td>0.52</td>\n",
       "      <td>-0.52</td>\n",
       "      <td>0.51</td>\n",
       "      <td>-0.51</td>\n",
       "      <td>0.34</td>\n",
       "      <td>0.34</td>\n",
       "    </tr>\n",
       "    <tr>\n",
       "      <th>536</th>\n",
       "      <td>537</td>\n",
       "      <td>Alejandro Garnacho</td>\n",
       "      <td>Manchester United</td>\n",
       "      <td>2</td>\n",
       "      <td>11</td>\n",
       "      <td>0</td>\n",
       "      <td>0</td>\n",
       "      <td>0.00</td>\n",
       "      <td>0.00</td>\n",
       "      <td>0.00</td>\n",
       "      <td>0.00</td>\n",
       "      <td>0.00</td>\n",
       "      <td>0.00</td>\n",
       "    </tr>\n",
       "  </tbody>\n",
       "</table>\n",
       "<p>537 rows × 13 columns</p>\n",
       "</div>"
      ],
      "text/plain": [
       "       №              Player                     Team  Apps   Min   G   A  \\\n",
       "0      1       Son Heung-Min                Tottenham    35  3051  23   7   \n",
       "1      2       Mohamed Salah                Liverpool    35  2757  23  13   \n",
       "2      3   Cristiano Ronaldo        Manchester United    30  2468  18   3   \n",
       "3      4          Harry Kane                Tottenham    37  3229  17   9   \n",
       "4      5          Sadio Mané                Liverpool    34  2833  16   2   \n",
       "..   ...                 ...                      ...   ...   ...  ..  ..   \n",
       "532  533           Chiquinho  Wolverhampton Wanderers     8   191   0   3   \n",
       "533  534        Josh Dasilva                Brentford     9   242   0   0   \n",
       "534  535     Daniel Chesters                 West Ham     1     1   0   0   \n",
       "535  536      Tony Springett                  Norwich     3   138   0   0   \n",
       "536  537  Alejandro Garnacho        Manchester United     2    11   0   0   \n",
       "\n",
       "        xG  G - xG    xA  xA - A  xG90  xA90  \n",
       "0    16.99    6.01  7.85   -0.85  0.50  0.23  \n",
       "1    24.36   -1.36  9.79    3.21  0.80  0.32  \n",
       "2    17.21    0.79  4.42   -1.42  0.63  0.16  \n",
       "3    20.69   -3.69  9.82   -0.82  0.58  0.27  \n",
       "4    16.83   -0.83  5.27   -3.27  0.53  0.17  \n",
       "..     ...     ...   ...     ...   ...   ...  \n",
       "532   0.56   -0.56  1.09    1.91  0.26  0.51  \n",
       "533   0.10   -0.10  0.18   -0.18  0.04  0.07  \n",
       "534   0.00    0.00  0.00    0.00  0.00  0.00  \n",
       "535   0.52   -0.52  0.51   -0.51  0.34  0.34  \n",
       "536   0.00    0.00  0.00    0.00  0.00  0.00  \n",
       "\n",
       "[537 rows x 13 columns]"
      ]
     },
     "execution_count": null,
     "metadata": {},
     "output_type": "execute_result"
    }
   ],
   "source": [
    "import pandas as pd\n",
    "import csv\n",
    "df = pd.read_csv(r'C:\\DATA301\\group26\\data\\processed\\Premier_League_players.xlsx.csv')\n",
    "df"
   ]
  },
  {
   "cell_type": "markdown",
   "id": "70650718-bfd8-4248-945c-2d7f1552665a",
   "metadata": {},
   "source": [
    "Presenting a G vs xG Scatterplot"
   ]
  },
  {
   "cell_type": "code",
   "execution_count": null,
   "id": "3f599e2b-d267-4ea0-a896-10211b05d846",
   "metadata": {},
   "outputs": [
    {
     "data": {
      "image/png": "[encoded data removed]",
      "text/plain": [
       "<Figure size 640x480 with 1 Axes>"
      ]
     },
     "metadata": {},
     "output_type": "display_data"
    }
   ],
   "source": [
    "import matplotlib.pyplot as plt\n",
    "import seaborn as sns\n",
    "import pandas as pd\n",
    "df = pd.read_csv(r'C:\\DATA301\\group26\\data\\processed\\Premier_League_players.xlsx.csv')\n",
    "ax_pokemon_plot1 = sns.scatterplot(x='G', y='xG', data=df)\n",
    "plt.show()"
   ]
  },
  {
   "cell_type": "markdown",
   "id": "7a3268d3-fb9c-4dee-ac5e-9850d99e29ec",
   "metadata": {},
   "source": [
    "Presenting an A vs xA Scatterplot"
   ]
  },
  {
   "cell_type": "code",
   "execution_count": null,
   "id": "bea08ed5-e92f-4bc7-9475-39f878600b43",
   "metadata": {},
   "outputs": [
    {
     "data": {
      "image/png": "[encoded data removed]",
      "text/plain": [
       "<Figure size 640x480 with 1 Axes>"
      ]
     },
     "metadata": {},
     "output_type": "display_data"
    }
   ],
   "source": [
    "import matplotlib.pyplot as plt\n",
    "import seaborn as sns\n",
    "import pandas as pd\n",
    "df = pd.read_csv(r'C:\\DATA301\\group26\\data\\processed\\Premier_League_players.xlsx.csv')\n",
    "ax_pokemon_plot1 = sns.scatterplot(x='A', y='xA', data=df)\n",
    "plt.show()"
   ]
  },
  {
   "cell_type": "markdown",
   "id": "b71ba60b-41c4-4ff0-ab3f-b1c75760cc23",
   "metadata": {},
   "source": [
    "A count of players Goals ranging from 0 to 23"
   ]
  },
  {
   "cell_type": "code",
   "execution_count": null,
   "id": "f6f7eaa9-3026-4e18-9299-2b13aee4c232",
   "metadata": {},
   "outputs": [
    {
     "data": {
      "text/plain": [
       "<AxesSubplot:xlabel='G', ylabel='count'>"
      ]
     },
     "execution_count": null,
     "metadata": {},
     "output_type": "execute_result"
    },
    {
     "data": {
      "image/png": "[encoded data removed]",
      "text/plain": [
       "<Figure size 640x480 with 1 Axes>"
      ]
     },
     "metadata": {},
     "output_type": "display_data"
    }
   ],
   "source": [
    "import seaborn as sns\n",
    "sns.countplot(x=df[\"G\"])"
   ]
  },
  {
   "cell_type": "markdown",
   "id": "e8e1d811-9026-4b90-a412-ecd06bfae39e",
   "metadata": {},
   "source": [
    "A count of players Assists ranging from 0 to 23"
   ]
  },
  {
   "cell_type": "code",
   "execution_count": null,
   "id": "fa94767f-9605-4fdc-9a90-54112cea7830",
   "metadata": {},
   "outputs": [
    {
     "data": {
      "text/plain": [
       "<AxesSubplot:xlabel='A', ylabel='count'>"
      ]
     },
     "execution_count": null,
     "metadata": {},
     "output_type": "execute_result"
    },
    {
     "data": {
      "image/png": "[encoded data removed]",
      "text/plain": [
       "<Figure size 640x480 with 1 Axes>"
      ]
     },
     "metadata": {},
     "output_type": "display_data"
    }
   ],
   "source": [
    "import seaborn as sns\n",
    "sns.countplot(x=df[\"A\"])"
   ]
  },
  {
   "cell_type": "code",
   "execution_count": null,
   "id": "f22563d6-7eab-487c-aeb6-b2b94912c3ee",
   "metadata": {},
   "outputs": [
    {
     "name": "stdout",
     "output_type": "stream",
     "text": [
      "The most goals from a player was: 23\n",
      "The least goals from a player was: 0\n"
     ]
    }
   ],
   "source": [
    "print(f'The most goals from a player was: {df[\"G\"].max()}')\n",
    "print(f'The least goals from a player was: {df[\"G\"].min()}')"
   ]
  }
 ],
 "metadata": {
  "kernelspec": {
   "display_name": "Python 3 (ipykernel)",
   "language": "python",
   "name": "python3"
  },
  "language_info": {
   "codemirror_mode": {
    "name": "ipython",
    "version": 3
   },
   "file_extension": ".py",
   "mimetype": "text/x-python",
   "name": "python",
   "nbconvert_exporter": "python",
   "pygments_lexer": "ipython3",
   "version": "3.10.8"
  }
 },
 "nbformat": 4,
 "nbformat_minor": 5
}
