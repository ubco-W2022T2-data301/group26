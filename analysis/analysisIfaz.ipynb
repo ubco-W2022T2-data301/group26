{
 "cells": [
  {
   "cell_type": "markdown",
   "metadata": {},
   "source": [
    "# Ifaz Chowdhury "
   ]
  },
  {
   "cell_type": "markdown",
   "metadata": {
    "jp-MarkdownHeadingCollapsed": true,
    "tags": []
   },
   "source": [
    "## Research question/interests\n",
    "\n",
    " **My research question dives into the correlation between Expected Goals on a per 90 minute basis (xG90) and Expected Assists on a per 90 minute basis (xG90).** The reason why I chose these two statistics to take a deeper analysis into is because the Expected metrics highlights a player’s performance based off of how many goals/assists they should have scored. Furthermore, the reason why I’m choosing per 90 minute metrics to evaluate this data is because I want to assess the use of per 90 minute metrics to evaluate players and whether they are a reliable statistic to judge player performance."
   ]
  },
  {
   "cell_type": "markdown",
   "metadata": {
    "tags": []
   },
   "source": [
    "## Legend\n",
    "\n",
    "**Football jargon:**\n",
    "\n",
    "xG90 = Expected Goals per 90 minutes\n",
    "\n",
    "xA90 = Expected Assists per 90 minutes\n",
    "\n",
    "xG = Expected Goals\n",
    "\n",
    "xA= Expected Assists\n",
    "\n",
    "G = Actual Goals\n",
    "\n",
    "A = Actual Assists\n",
    "\n",
    "**Statistics:** \n",
    "\n",
    "MSE = Mean Squared Error deviation\n",
    "\n",
    "RMSE = Root Mean Squared Error deviation"
   ]
  },
  {
   "cell_type": "code",
   "execution_count": 3,
   "metadata": {},
   "outputs": [
    {
     "data": {
      "text/html": [
       "<div>\n",
       "<style scoped>\n",
       "    .dataframe tbody tr th:only-of-type {\n",
       "        vertical-align: middle;\n",
       "    }\n",
       "\n",
       "    .dataframe tbody tr th {\n",
       "        vertical-align: top;\n",
       "    }\n",
       "\n",
       "    .dataframe thead th {\n",
       "        text-align: right;\n",
       "    }\n",
       "</style>\n",
       "<table border=\"1\" class=\"dataframe\">\n",
       "  <thead>\n",
       "    <tr style=\"text-align: right;\">\n",
       "      <th></th>\n",
       "      <th>№</th>\n",
       "      <th>Player</th>\n",
       "      <th>Team</th>\n",
       "      <th>Apps</th>\n",
       "      <th>Min</th>\n",
       "      <th>G</th>\n",
       "      <th>A</th>\n",
       "      <th>xG</th>\n",
       "      <th>G - xG</th>\n",
       "      <th>xA</th>\n",
       "      <th>xA - A</th>\n",
       "      <th>xG90</th>\n",
       "      <th>xA90</th>\n",
       "    </tr>\n",
       "  </thead>\n",
       "  <tbody>\n",
       "    <tr>\n",
       "      <th>0</th>\n",
       "      <td>1</td>\n",
       "      <td>Son Heung-Min</td>\n",
       "      <td>Tottenham</td>\n",
       "      <td>35</td>\n",
       "      <td>3051</td>\n",
       "      <td>23</td>\n",
       "      <td>7</td>\n",
       "      <td>16.99</td>\n",
       "      <td>6.01</td>\n",
       "      <td>7.85</td>\n",
       "      <td>-0.85</td>\n",
       "      <td>0.50</td>\n",
       "      <td>0.23</td>\n",
       "    </tr>\n",
       "    <tr>\n",
       "      <th>1</th>\n",
       "      <td>2</td>\n",
       "      <td>Mohamed Salah</td>\n",
       "      <td>Liverpool</td>\n",
       "      <td>35</td>\n",
       "      <td>2757</td>\n",
       "      <td>23</td>\n",
       "      <td>13</td>\n",
       "      <td>24.36</td>\n",
       "      <td>-1.36</td>\n",
       "      <td>9.79</td>\n",
       "      <td>3.21</td>\n",
       "      <td>0.80</td>\n",
       "      <td>0.32</td>\n",
       "    </tr>\n",
       "    <tr>\n",
       "      <th>2</th>\n",
       "      <td>3</td>\n",
       "      <td>Cristiano Ronaldo</td>\n",
       "      <td>Manchester United</td>\n",
       "      <td>30</td>\n",
       "      <td>2468</td>\n",
       "      <td>18</td>\n",
       "      <td>3</td>\n",
       "      <td>17.21</td>\n",
       "      <td>0.79</td>\n",
       "      <td>4.42</td>\n",
       "      <td>-1.42</td>\n",
       "      <td>0.63</td>\n",
       "      <td>0.16</td>\n",
       "    </tr>\n",
       "    <tr>\n",
       "      <th>3</th>\n",
       "      <td>4</td>\n",
       "      <td>Harry Kane</td>\n",
       "      <td>Tottenham</td>\n",
       "      <td>37</td>\n",
       "      <td>3229</td>\n",
       "      <td>17</td>\n",
       "      <td>9</td>\n",
       "      <td>20.69</td>\n",
       "      <td>-3.69</td>\n",
       "      <td>9.82</td>\n",
       "      <td>-0.82</td>\n",
       "      <td>0.58</td>\n",
       "      <td>0.27</td>\n",
       "    </tr>\n",
       "    <tr>\n",
       "      <th>4</th>\n",
       "      <td>5</td>\n",
       "      <td>Sadio Mané</td>\n",
       "      <td>Liverpool</td>\n",
       "      <td>34</td>\n",
       "      <td>2833</td>\n",
       "      <td>16</td>\n",
       "      <td>2</td>\n",
       "      <td>16.83</td>\n",
       "      <td>-0.83</td>\n",
       "      <td>5.27</td>\n",
       "      <td>-3.27</td>\n",
       "      <td>0.53</td>\n",
       "      <td>0.17</td>\n",
       "    </tr>\n",
       "  </tbody>\n",
       "</table>\n",
       "</div>"
      ],
      "text/plain": [
       "   №             Player               Team  Apps   Min   G   A     xG  G - xG  \\\n",
       "0  1      Son Heung-Min          Tottenham    35  3051  23   7  16.99    6.01   \n",
       "1  2      Mohamed Salah          Liverpool    35  2757  23  13  24.36   -1.36   \n",
       "2  3  Cristiano Ronaldo  Manchester United    30  2468  18   3  17.21    0.79   \n",
       "3  4         Harry Kane          Tottenham    37  3229  17   9  20.69   -3.69   \n",
       "4  5         Sadio Mané          Liverpool    34  2833  16   2  16.83   -0.83   \n",
       "\n",
       "     xA  xA - A  xG90  xA90  \n",
       "0  7.85   -0.85  0.50  0.23  \n",
       "1  9.79    3.21  0.80  0.32  \n",
       "2  4.42   -1.42  0.63  0.16  \n",
       "3  9.82   -0.82  0.58  0.27  \n",
       "4  5.27   -3.27  0.53  0.17  "
      ]
     },
     "execution_count": 3,
     "metadata": {},
     "output_type": "execute_result"
    }
   ],
   "source": [
    "import pandas as pd \n",
    "import seaborn as sns\n",
    "import matplotlib\n",
    "import matplotlib.pyplot as plt\n",
    "import numpy as np\n",
    "import math \n",
    "df = pd.read_csv('../data/raw/Premier_League_players.csv')\n",
    "df.head()"
   ]
  },
  {
   "cell_type": "code",
   "execution_count": 4,
   "metadata": {},
   "outputs": [
    {
     "data": {
      "text/plain": [
       "<seaborn.axisgrid.JointGrid at 0x1e923465cd0>"
      ]
     },
     "execution_count": 4,
     "metadata": {},
     "output_type": "execute_result"
    },
    {
     "data": {
      "image/png": "[encoded data removed]",
      "text/plain": [
       "<Figure size 432x432 with 3 Axes>"
      ]
     },
     "metadata": {
      "needs_background": "light"
     },
     "output_type": "display_data"
    }
   ],
   "source": [
    "sns.jointplot(x='xG90',y='xA90', data=df)"
   ]
  },
  {
   "cell_type": "markdown",
   "metadata": {},
   "source": [
    "looks like there are no really important outliers"
   ]
  },
  {
   "cell_type": "code",
   "execution_count": 4,
   "metadata": {},
   "outputs": [],
   "source": [
    "def data_no_outlier(df):\n",
    "    #method chaining 1 : taking off the outliers\n",
    "    xG90_data = np.array(df['xG90'])\n",
    "    xG90_low, xG90_hgh = np.percentile(xG90_data, [1, 99])\n",
    "    print(xG90_low, xG90_hgh)\n",
    "    df_no_outlier_xG90 = df.copy()[df['xG90'].between(xG90_low, xG90_hgh)]\n",
    "\n",
    "    print(len(df_no_outlier_xG90))\n",
    "    #df_no_outlier_xG90.head()\n",
    "    xA90_data = np.array(df['xA90'])\n",
    "    xA90_low, xA90_hgh = np.percentile(xA90_data, [1, 99])\n",
    "    print(xA90_low, xA90_hgh)\n",
    "    df_no_outlier = df_no_outlier_xG90.copy()[df_no_outlier_xG90['xA90'].between(xA90_low, xA90_hgh)]\n",
    "\n",
    "    print(len(df_no_outlier))\n",
    "    #df_no_outlier.head()\n",
    "    return df_no_outlier"
   ]
  },
  {
   "cell_type": "code",
   "execution_count": 5,
   "metadata": {},
   "outputs": [
    {
     "name": "stdout",
     "output_type": "stream",
     "text": [
      "0.0 0.9727999999999997\n",
      "531\n",
      "0.0 0.4191999999999996\n",
      "525\n"
     ]
    }
   ],
   "source": [
    "df_no_outlier= data_no_outlier(df)"
   ]
  },
  {
   "cell_type": "code",
   "execution_count": 6,
   "metadata": {},
   "outputs": [
    {
     "data": {
      "text/plain": [
       "<seaborn.axisgrid.JointGrid at 0x16a83162a90>"
      ]
     },
     "execution_count": 6,
     "metadata": {},
     "output_type": "execute_result"
    },
    {
     "data": {
      "image/png": "[encoded data removed]",
      "text/plain": [
       "<Figure size 432x432 with 3 Axes>"
      ]
     },
     "metadata": {
      "needs_background": "light"
     },
     "output_type": "display_data"
    }
   ],
   "source": [
    "sns.jointplot(x='xG90',y='xA90', data=df_no_outlier)"
   ]
  },
  {
   "cell_type": "markdown",
   "metadata": {},
   "source": [
    "We see that the data is more concentrated in the bottom left, but are there any real tendency? we want to look for ratios, we will drop zeros for now"
   ]
  },
  {
   "cell_type": "code",
   "execution_count": 11,
   "metadata": {},
   "outputs": [
    {
     "name": "stdout",
     "output_type": "stream",
     "text": [
      "0.0 0.4 0.0 0.8\n"
     ]
    }
   ],
   "source": [
    "print(df_no_outlier['xA90'].min(), df_no_outlier['xA90'].max(), df_no_outlier['xG90'].min(), df_no_outlier['xG90'].max())"
   ]
  },
  {
   "cell_type": "code",
   "execution_count": 14,
   "metadata": {},
   "outputs": [],
   "source": [
    "def clean_zeros(df):\n",
    "    #method chaining 2 : taking off the zeros\n",
    "    df_no_zero = df.copy()[df['xA90'].between(0.000001, df['xA90'].max())]\n",
    "    df_no_zero2 = df_no_zero.copy()[df_no_zero['xG90'].between(0.000001, df_no_outlier['xG90'].max())]\n",
    "    \n",
    "    return df_no_zero2\n"
   ]
  },
  {
   "cell_type": "code",
   "execution_count": 15,
   "metadata": {},
   "outputs": [],
   "source": [
    "df_detailed= clean_zeros(df_no_outlier)"
   ]
  },
  {
   "cell_type": "code",
   "execution_count": 16,
   "metadata": {},
   "outputs": [
    {
     "data": {
      "text/plain": [
       "<AxesSubplot:xlabel='xG90', ylabel='Ratio'>"
      ]
     },
     "execution_count": 16,
     "metadata": {},
     "output_type": "execute_result"
    },
    {
     "data": {
      "image/png": "[encoded data removed]",
      "text/plain": [
       "<Figure size 432x288 with 1 Axes>"
      ]
     },
     "metadata": {
      "needs_background": "light"
     },
     "output_type": "display_data"
    }
   ],
   "source": [
    "df_detailed['Ratio'] = df_detailed['xG90'] / df_detailed['xA90']\n",
    "df_detailed.plot(kind='scatter', x='xG90', y='Ratio')"
   ]
  },
  {
   "cell_type": "markdown",
   "metadata": {},
   "source": [
    "The data is in the bottom triangle, but this is related to the limited nature of xA90"
   ]
  },
  {
   "cell_type": "code",
   "execution_count": 17,
   "metadata": {},
   "outputs": [
    {
     "name": "stdout",
     "output_type": "stream",
     "text": [
      "0.04761904761904762 73.0 19.595917942265423\n"
     ]
    }
   ],
   "source": [
    "Ratio_data = np.array(df_detailed['Ratio'])\n",
    "print(Ratio_data.min(), Ratio_data.max(), math.sqrt(len(Ratio_data)))\n"
   ]
  },
  {
   "cell_type": "code",
   "execution_count": 18,
   "metadata": {},
   "outputs": [
    {
     "data": {
      "text/plain": [
       "<AxesSubplot:ylabel='Frequency'>"
      ]
     },
     "execution_count": 18,
     "metadata": {},
     "output_type": "execute_result"
    },
    {
     "data": {
      "image/png": "[encoded data removed]",
      "text/plain": [
       "<Figure size 864x432 with 1 Axes>"
      ]
     },
     "metadata": {
      "needs_background": "light"
     },
     "output_type": "display_data"
    }
   ],
   "source": [
    "Ratio_bins = np.linspace(Ratio_data.min(), Ratio_data.max(), 19)\n",
    "df_detailed['Ratio'].plot(kind='hist', bins=Ratio_bins, figsize=(12,6), facecolor='grey',edgecolor='black')"
   ]
  },
  {
   "cell_type": "markdown",
   "metadata": {},
   "source": [
    "We are trying to understand the nature of the ratio 'xG90' / 'xA90'. Here, we see that there are outliers and the chosen gap was not appropriate"
   ]
  },
  {
   "cell_type": "code",
   "execution_count": 19,
   "metadata": {},
   "outputs": [
    {
     "data": {
      "text/plain": [
       "<AxesSubplot:ylabel='Frequency'>"
      ]
     },
     "execution_count": 19,
     "metadata": {},
     "output_type": "execute_result"
    },
    {
     "data": {
      "image/png": "[encoded data removed]",
      "text/plain": [
       "<Figure size 864x432 with 1 Axes>"
      ]
     },
     "metadata": {
      "needs_background": "light"
     },
     "output_type": "display_data"
    }
   ],
   "source": [
    "Ratio_bins = np.linspace(Ratio_data.min(), Ratio_data.max(), 100)\n",
    "df_detailed['Ratio'].plot(kind='hist', bins=Ratio_bins, figsize=(12,6), facecolor='grey',edgecolor='black')"
   ]
  },
  {
   "cell_type": "markdown",
   "metadata": {},
   "source": [
    "The same data than above, but with smaller bins"
   ]
  },
  {
   "cell_type": "markdown",
   "metadata": {},
   "source": [
    "What if we will not look fot outliers ?"
   ]
  },
  {
   "cell_type": "code",
   "execution_count": 20,
   "metadata": {},
   "outputs": [
    {
     "name": "stdout",
     "output_type": "stream",
     "text": [
      "0.09090909090909091 15.850000000000081\n"
     ]
    }
   ],
   "source": [
    "Ratio_low, Ratio_hgh = np.percentile(Ratio_data, [1, 99])\n",
    "print(Ratio_low, Ratio_hgh)"
   ]
  },
  {
   "cell_type": "code",
   "execution_count": 21,
   "metadata": {},
   "outputs": [
    {
     "data": {
      "text/html": [
       "<div>\n",
       "<style scoped>\n",
       "    .dataframe tbody tr th:only-of-type {\n",
       "        vertical-align: middle;\n",
       "    }\n",
       "\n",
       "    .dataframe tbody tr th {\n",
       "        vertical-align: top;\n",
       "    }\n",
       "\n",
       "    .dataframe thead th {\n",
       "        text-align: right;\n",
       "    }\n",
       "</style>\n",
       "<table border=\"1\" class=\"dataframe\">\n",
       "  <thead>\n",
       "    <tr style=\"text-align: right;\">\n",
       "      <th></th>\n",
       "      <th>№</th>\n",
       "      <th>Player</th>\n",
       "      <th>Team</th>\n",
       "      <th>Apps</th>\n",
       "      <th>Min</th>\n",
       "      <th>G</th>\n",
       "      <th>A</th>\n",
       "      <th>xG</th>\n",
       "      <th>G - xG</th>\n",
       "      <th>xA</th>\n",
       "      <th>xA - A</th>\n",
       "      <th>xG90</th>\n",
       "      <th>xA90</th>\n",
       "      <th>Ratio</th>\n",
       "    </tr>\n",
       "  </thead>\n",
       "  <tbody>\n",
       "    <tr>\n",
       "      <th>0</th>\n",
       "      <td>1</td>\n",
       "      <td>Son Heung-Min</td>\n",
       "      <td>Tottenham</td>\n",
       "      <td>35</td>\n",
       "      <td>3051</td>\n",
       "      <td>23</td>\n",
       "      <td>7</td>\n",
       "      <td>16.99</td>\n",
       "      <td>6.01</td>\n",
       "      <td>7.85</td>\n",
       "      <td>-0.85</td>\n",
       "      <td>0.50</td>\n",
       "      <td>0.23</td>\n",
       "      <td>2.173913</td>\n",
       "    </tr>\n",
       "    <tr>\n",
       "      <th>1</th>\n",
       "      <td>2</td>\n",
       "      <td>Mohamed Salah</td>\n",
       "      <td>Liverpool</td>\n",
       "      <td>35</td>\n",
       "      <td>2757</td>\n",
       "      <td>23</td>\n",
       "      <td>13</td>\n",
       "      <td>24.36</td>\n",
       "      <td>-1.36</td>\n",
       "      <td>9.79</td>\n",
       "      <td>3.21</td>\n",
       "      <td>0.80</td>\n",
       "      <td>0.32</td>\n",
       "      <td>2.500000</td>\n",
       "    </tr>\n",
       "    <tr>\n",
       "      <th>2</th>\n",
       "      <td>3</td>\n",
       "      <td>Cristiano Ronaldo</td>\n",
       "      <td>Manchester United</td>\n",
       "      <td>30</td>\n",
       "      <td>2468</td>\n",
       "      <td>18</td>\n",
       "      <td>3</td>\n",
       "      <td>17.21</td>\n",
       "      <td>0.79</td>\n",
       "      <td>4.42</td>\n",
       "      <td>-1.42</td>\n",
       "      <td>0.63</td>\n",
       "      <td>0.16</td>\n",
       "      <td>3.937500</td>\n",
       "    </tr>\n",
       "    <tr>\n",
       "      <th>3</th>\n",
       "      <td>4</td>\n",
       "      <td>Harry Kane</td>\n",
       "      <td>Tottenham</td>\n",
       "      <td>37</td>\n",
       "      <td>3229</td>\n",
       "      <td>17</td>\n",
       "      <td>9</td>\n",
       "      <td>20.69</td>\n",
       "      <td>-3.69</td>\n",
       "      <td>9.82</td>\n",
       "      <td>-0.82</td>\n",
       "      <td>0.58</td>\n",
       "      <td>0.27</td>\n",
       "      <td>2.148148</td>\n",
       "    </tr>\n",
       "    <tr>\n",
       "      <th>4</th>\n",
       "      <td>5</td>\n",
       "      <td>Sadio Mané</td>\n",
       "      <td>Liverpool</td>\n",
       "      <td>34</td>\n",
       "      <td>2833</td>\n",
       "      <td>16</td>\n",
       "      <td>2</td>\n",
       "      <td>16.83</td>\n",
       "      <td>-0.83</td>\n",
       "      <td>5.27</td>\n",
       "      <td>-3.27</td>\n",
       "      <td>0.53</td>\n",
       "      <td>0.17</td>\n",
       "      <td>3.117647</td>\n",
       "    </tr>\n",
       "  </tbody>\n",
       "</table>\n",
       "</div>"
      ],
      "text/plain": [
       "   №             Player               Team  Apps   Min   G   A     xG  G - xG  \\\n",
       "0  1      Son Heung-Min          Tottenham    35  3051  23   7  16.99    6.01   \n",
       "1  2      Mohamed Salah          Liverpool    35  2757  23  13  24.36   -1.36   \n",
       "2  3  Cristiano Ronaldo  Manchester United    30  2468  18   3  17.21    0.79   \n",
       "3  4         Harry Kane          Tottenham    37  3229  17   9  20.69   -3.69   \n",
       "4  5         Sadio Mané          Liverpool    34  2833  16   2  16.83   -0.83   \n",
       "\n",
       "     xA  xA - A  xG90  xA90     Ratio  \n",
       "0  7.85   -0.85  0.50  0.23  2.173913  \n",
       "1  9.79    3.21  0.80  0.32  2.500000  \n",
       "2  4.42   -1.42  0.63  0.16  3.937500  \n",
       "3  9.82   -0.82  0.58  0.27  2.148148  \n",
       "4  5.27   -3.27  0.53  0.17  3.117647  "
      ]
     },
     "execution_count": 21,
     "metadata": {},
     "output_type": "execute_result"
    }
   ],
   "source": [
    "df_popularRatios = df_detailed.copy()[df_detailed['Ratio'].between(Ratio_low, Ratio_hgh)]\n",
    "df_popularRatios.head()"
   ]
  },
  {
   "cell_type": "code",
   "execution_count": 22,
   "metadata": {},
   "outputs": [
    {
     "name": "stdout",
     "output_type": "stream",
     "text": [
      "0.09090909090909091 15.000000000000002 19.4164878389476\n"
     ]
    }
   ],
   "source": [
    "Ratio_data = np.array(df_popularRatios['Ratio'])\n",
    "print(Ratio_data.min(), Ratio_data.max(), math.sqrt(len(Ratio_data)))"
   ]
  },
  {
   "cell_type": "code",
   "execution_count": 23,
   "metadata": {},
   "outputs": [
    {
     "data": {
      "text/plain": [
       "<AxesSubplot:ylabel='Frequency'>"
      ]
     },
     "execution_count": 23,
     "metadata": {},
     "output_type": "execute_result"
    },
    {
     "data": {
      "image/png": "[encoded data removed]",
      "text/plain": [
       "<Figure size 864x432 with 1 Axes>"
      ]
     },
     "metadata": {
      "needs_background": "light"
     },
     "output_type": "display_data"
    }
   ],
   "source": [
    "Ratio_bins = np.linspace(Ratio_data.min(), Ratio_data.max(), 19)\n",
    "df_popularRatios['Ratio'].plot(kind='hist', bins=Ratio_bins, figsize=(12,6), facecolor='grey',edgecolor='black')"
   ]
  },
  {
   "cell_type": "markdown",
   "metadata": {},
   "source": [
    "The df_detailed['xG90'] / df_detailed['xA90'] hystogram of 1-99 percentiles of this value"
   ]
  },
  {
   "cell_type": "markdown",
   "metadata": {},
   "source": [
    "Let's look more in details, if there are any relationship?"
   ]
  },
  {
   "cell_type": "code",
   "execution_count": 25,
   "metadata": {},
   "outputs": [
    {
     "data": {
      "text/html": [
       "<div>\n",
       "<style scoped>\n",
       "    .dataframe tbody tr th:only-of-type {\n",
       "        vertical-align: middle;\n",
       "    }\n",
       "\n",
       "    .dataframe tbody tr th {\n",
       "        vertical-align: top;\n",
       "    }\n",
       "\n",
       "    .dataframe thead th {\n",
       "        text-align: right;\n",
       "    }\n",
       "</style>\n",
       "<table border=\"1\" class=\"dataframe\">\n",
       "  <thead>\n",
       "    <tr style=\"text-align: right;\">\n",
       "      <th></th>\n",
       "      <th>№</th>\n",
       "      <th>Player</th>\n",
       "      <th>Team</th>\n",
       "      <th>Apps</th>\n",
       "      <th>Min</th>\n",
       "      <th>G</th>\n",
       "      <th>A</th>\n",
       "      <th>xG</th>\n",
       "      <th>G - xG</th>\n",
       "      <th>xA</th>\n",
       "      <th>xA - A</th>\n",
       "      <th>xG90</th>\n",
       "      <th>xA90</th>\n",
       "    </tr>\n",
       "  </thead>\n",
       "  <tbody>\n",
       "    <tr>\n",
       "      <th>0</th>\n",
       "      <td>1</td>\n",
       "      <td>Son Heung-Min</td>\n",
       "      <td>Tottenham</td>\n",
       "      <td>35</td>\n",
       "      <td>3051</td>\n",
       "      <td>23</td>\n",
       "      <td>7</td>\n",
       "      <td>16.99</td>\n",
       "      <td>6.01</td>\n",
       "      <td>7.85</td>\n",
       "      <td>-0.85</td>\n",
       "      <td>0.50</td>\n",
       "      <td>0.23</td>\n",
       "    </tr>\n",
       "    <tr>\n",
       "      <th>1</th>\n",
       "      <td>2</td>\n",
       "      <td>Mohamed Salah</td>\n",
       "      <td>Liverpool</td>\n",
       "      <td>35</td>\n",
       "      <td>2757</td>\n",
       "      <td>23</td>\n",
       "      <td>13</td>\n",
       "      <td>24.36</td>\n",
       "      <td>-1.36</td>\n",
       "      <td>9.79</td>\n",
       "      <td>3.21</td>\n",
       "      <td>0.80</td>\n",
       "      <td>0.32</td>\n",
       "    </tr>\n",
       "    <tr>\n",
       "      <th>2</th>\n",
       "      <td>3</td>\n",
       "      <td>Cristiano Ronaldo</td>\n",
       "      <td>Manchester United</td>\n",
       "      <td>30</td>\n",
       "      <td>2468</td>\n",
       "      <td>18</td>\n",
       "      <td>3</td>\n",
       "      <td>17.21</td>\n",
       "      <td>0.79</td>\n",
       "      <td>4.42</td>\n",
       "      <td>-1.42</td>\n",
       "      <td>0.63</td>\n",
       "      <td>0.16</td>\n",
       "    </tr>\n",
       "    <tr>\n",
       "      <th>3</th>\n",
       "      <td>4</td>\n",
       "      <td>Harry Kane</td>\n",
       "      <td>Tottenham</td>\n",
       "      <td>37</td>\n",
       "      <td>3229</td>\n",
       "      <td>17</td>\n",
       "      <td>9</td>\n",
       "      <td>20.69</td>\n",
       "      <td>-3.69</td>\n",
       "      <td>9.82</td>\n",
       "      <td>-0.82</td>\n",
       "      <td>0.58</td>\n",
       "      <td>0.27</td>\n",
       "    </tr>\n",
       "    <tr>\n",
       "      <th>4</th>\n",
       "      <td>5</td>\n",
       "      <td>Sadio Mané</td>\n",
       "      <td>Liverpool</td>\n",
       "      <td>34</td>\n",
       "      <td>2833</td>\n",
       "      <td>16</td>\n",
       "      <td>2</td>\n",
       "      <td>16.83</td>\n",
       "      <td>-0.83</td>\n",
       "      <td>5.27</td>\n",
       "      <td>-3.27</td>\n",
       "      <td>0.53</td>\n",
       "      <td>0.17</td>\n",
       "    </tr>\n",
       "  </tbody>\n",
       "</table>\n",
       "</div>"
      ],
      "text/plain": [
       "   №             Player               Team  Apps   Min   G   A     xG  G - xG  \\\n",
       "0  1      Son Heung-Min          Tottenham    35  3051  23   7  16.99    6.01   \n",
       "1  2      Mohamed Salah          Liverpool    35  2757  23  13  24.36   -1.36   \n",
       "2  3  Cristiano Ronaldo  Manchester United    30  2468  18   3  17.21    0.79   \n",
       "3  4         Harry Kane          Tottenham    37  3229  17   9  20.69   -3.69   \n",
       "4  5         Sadio Mané          Liverpool    34  2833  16   2  16.83   -0.83   \n",
       "\n",
       "     xA  xA - A  xG90  xA90  \n",
       "0  7.85   -0.85  0.50  0.23  \n",
       "1  9.79    3.21  0.80  0.32  \n",
       "2  4.42   -1.42  0.63  0.16  \n",
       "3  9.82   -0.82  0.58  0.27  \n",
       "4  5.27   -3.27  0.53  0.17  "
      ]
     },
     "execution_count": 25,
     "metadata": {},
     "output_type": "execute_result"
    }
   ],
   "source": [
    "df_no_outlier.head()"
   ]
  },
  {
   "cell_type": "code",
   "execution_count": 26,
   "metadata": {},
   "outputs": [],
   "source": [
    "import numpy as np\n",
    "import pandas as pd\n",
    "import matplotlib.pyplot as plt\n",
    "from sklearn.preprocessing import scale \n",
    "from sklearn import model_selection\n",
    "from sklearn.model_selection import RepeatedKFold\n",
    "from sklearn.model_selection import train_test_split\n",
    "from sklearn.decomposition import PCA\n",
    "from sklearn.linear_model import LinearRegression\n",
    "from sklearn.metrics import mean_squared_error"
   ]
  },
  {
   "cell_type": "markdown",
   "metadata": {},
   "source": [
    "We look all the data and try to understand if the behaviour of xA90 can be predicted basing on ANY of the variables. We took the data without outliers"
   ]
  },
  {
   "cell_type": "code",
   "execution_count": 28,
   "metadata": {},
   "outputs": [
    {
     "data": {
      "text/plain": [
       "Text(0.5, 1.0, 'xA90')"
      ]
     },
     "execution_count": 28,
     "metadata": {},
     "output_type": "execute_result"
    },
    {
     "data": {
      "image/png": "[encoded data removed]",
      "text/plain": [
       "<Figure size 432x288 with 1 Axes>"
      ]
     },
     "metadata": {
      "needs_background": "light"
     },
     "output_type": "display_data"
    }
   ],
   "source": [
    "#define predictor and response variables\n",
    "X = df_no_outlier[[\"G\", \"A\", \"xG\", \"xA\", \"xG90\", \"Apps\", \"Min\"]]\n",
    "y = df_no_outlier[[\"xA90\"]]\n",
    "\n",
    "#scale predictor variables\n",
    "pca = PCA()\n",
    "X_reduced = pca.fit_transform(scale(X))\n",
    "\n",
    "#define cross validation method\n",
    "cv = RepeatedKFold(n_splits=10, n_repeats=3, random_state=1)\n",
    "\n",
    "regr = LinearRegression()\n",
    "mse = []\n",
    "\n",
    "# Calculate MSE with only the intercept\n",
    "score = -1*model_selection.cross_val_score(regr,\n",
    "           np.ones((len(X_reduced),1)), y, cv=cv,\n",
    "           scoring='neg_mean_squared_error').mean()    \n",
    "mse.append(score)\n",
    "\n",
    "# Calculate MSE using cross-validation, adding one component at a time\n",
    "for i in np.arange(1, 7):\n",
    "    score = -1*model_selection.cross_val_score(regr,\n",
    "               X_reduced[:,:i], y, cv=cv, scoring='neg_mean_squared_error').mean()\n",
    "    mse.append(score)\n",
    "    \n",
    "# Plot cross-validation results    \n",
    "plt.plot(mse)\n",
    "plt.xlabel('Number of Principal Components')\n",
    "plt.ylabel('MSE')\n",
    "plt.title('xA90')"
   ]
  },
  {
   "cell_type": "markdown",
   "metadata": {},
   "source": [
    "The plot displays the number of principal components along the x-axis and the test MSE (mean squared error) along the y-axis.\n",
    "The method is the same than in https://www.statology.org/principal-components-regression-in-python/ article"
   ]
  },
  {
   "cell_type": "code",
   "execution_count": 29,
   "metadata": {},
   "outputs": [
    {
     "data": {
      "text/plain": [
       "array([63.  , 82.92, 92.77, 96.8 , 98.61, 99.41, 99.99])"
      ]
     },
     "execution_count": 29,
     "metadata": {},
     "output_type": "execute_result"
    }
   ],
   "source": [
    "np.cumsum(np.round(pca.explained_variance_ratio_, decimals=4)*100)"
   ]
  },
  {
   "cell_type": "markdown",
   "metadata": {},
   "source": [
    "\n",
    "    By using just the first principal component, we can explain 63% of the variation in the response variable.\n",
    "    By adding in the second principal component, we can explain 82.92% of the variation in the response variable.\n"
   ]
  },
  {
   "cell_type": "markdown",
   "metadata": {},
   "source": [
    "For now, we are trying to take a look for a different baseline regression models, as in https://towardsdatascience.com/principal-component-regression-clearly-explained-and-implemented-608471530a2f article"
   ]
  },
  {
   "cell_type": "code",
   "execution_count": 31,
   "metadata": {},
   "outputs": [],
   "source": [
    "target = 'xA90'\n",
    "X = df_no_outlier.drop(target,axis=1)\n",
    "y = df_no_outlier[target]"
   ]
  },
  {
   "cell_type": "code",
   "execution_count": 32,
   "metadata": {},
   "outputs": [
    {
     "data": {
      "text/plain": [
       "Index(['№', 'Player', 'Team', 'Apps', 'Min', 'G', 'A', 'xG', 'G - xG', 'xA',\n",
       "       'xA - A', 'xG90', 'xA90'],\n",
       "      dtype='object')"
      ]
     },
     "execution_count": 32,
     "metadata": {},
     "output_type": "execute_result"
    }
   ],
   "source": [
    "df_no_outlier.columns"
   ]
  },
  {
   "cell_type": "code",
   "execution_count": 34,
   "metadata": {},
   "outputs": [
    {
     "data": {
      "text/html": [
       "<div>\n",
       "<style scoped>\n",
       "    .dataframe tbody tr th:only-of-type {\n",
       "        vertical-align: middle;\n",
       "    }\n",
       "\n",
       "    .dataframe tbody tr th {\n",
       "        vertical-align: top;\n",
       "    }\n",
       "\n",
       "    .dataframe thead th {\n",
       "        text-align: right;\n",
       "    }\n",
       "</style>\n",
       "<table border=\"1\" class=\"dataframe\">\n",
       "  <thead>\n",
       "    <tr style=\"text-align: right;\">\n",
       "      <th></th>\n",
       "      <th>Apps</th>\n",
       "      <th>Min</th>\n",
       "      <th>G</th>\n",
       "      <th>A</th>\n",
       "      <th>xG</th>\n",
       "      <th>G - xG</th>\n",
       "      <th>xA</th>\n",
       "      <th>xA - A</th>\n",
       "      <th>xG90</th>\n",
       "      <th>xA90</th>\n",
       "    </tr>\n",
       "  </thead>\n",
       "  <tbody>\n",
       "    <tr>\n",
       "      <th>0</th>\n",
       "      <td>35</td>\n",
       "      <td>3051</td>\n",
       "      <td>23</td>\n",
       "      <td>7</td>\n",
       "      <td>16.99</td>\n",
       "      <td>6.01</td>\n",
       "      <td>7.85</td>\n",
       "      <td>-0.85</td>\n",
       "      <td>0.50</td>\n",
       "      <td>0.23</td>\n",
       "    </tr>\n",
       "    <tr>\n",
       "      <th>1</th>\n",
       "      <td>35</td>\n",
       "      <td>2757</td>\n",
       "      <td>23</td>\n",
       "      <td>13</td>\n",
       "      <td>24.36</td>\n",
       "      <td>-1.36</td>\n",
       "      <td>9.79</td>\n",
       "      <td>3.21</td>\n",
       "      <td>0.80</td>\n",
       "      <td>0.32</td>\n",
       "    </tr>\n",
       "    <tr>\n",
       "      <th>2</th>\n",
       "      <td>30</td>\n",
       "      <td>2468</td>\n",
       "      <td>18</td>\n",
       "      <td>3</td>\n",
       "      <td>17.21</td>\n",
       "      <td>0.79</td>\n",
       "      <td>4.42</td>\n",
       "      <td>-1.42</td>\n",
       "      <td>0.63</td>\n",
       "      <td>0.16</td>\n",
       "    </tr>\n",
       "    <tr>\n",
       "      <th>3</th>\n",
       "      <td>37</td>\n",
       "      <td>3229</td>\n",
       "      <td>17</td>\n",
       "      <td>9</td>\n",
       "      <td>20.69</td>\n",
       "      <td>-3.69</td>\n",
       "      <td>9.82</td>\n",
       "      <td>-0.82</td>\n",
       "      <td>0.58</td>\n",
       "      <td>0.27</td>\n",
       "    </tr>\n",
       "    <tr>\n",
       "      <th>4</th>\n",
       "      <td>34</td>\n",
       "      <td>2833</td>\n",
       "      <td>16</td>\n",
       "      <td>2</td>\n",
       "      <td>16.83</td>\n",
       "      <td>-0.83</td>\n",
       "      <td>5.27</td>\n",
       "      <td>-3.27</td>\n",
       "      <td>0.53</td>\n",
       "      <td>0.17</td>\n",
       "    </tr>\n",
       "  </tbody>\n",
       "</table>\n",
       "</div>"
      ],
      "text/plain": [
       "   Apps   Min   G   A     xG  G - xG    xA  xA - A  xG90  xA90\n",
       "0    35  3051  23   7  16.99    6.01  7.85   -0.85  0.50  0.23\n",
       "1    35  2757  23  13  24.36   -1.36  9.79    3.21  0.80  0.32\n",
       "2    30  2468  18   3  17.21    0.79  4.42   -1.42  0.63  0.16\n",
       "3    37  3229  17   9  20.69   -3.69  9.82   -0.82  0.58  0.27\n",
       "4    34  2833  16   2  16.83   -0.83  5.27   -3.27  0.53  0.17"
      ]
     },
     "execution_count": 34,
     "metadata": {},
     "output_type": "execute_result"
    }
   ],
   "source": [
    "#method chaining 3 : cleaning the data for the regressions\n",
    "df2 = (\n",
    "    df_no_outlier.copy().drop('Player', axis=1)\n",
    "    .drop('Team', axis=1)\n",
    "    .drop('№', axis=1)\n",
    ")\n",
    "\n",
    "df2.head()"
   ]
  },
  {
   "cell_type": "code",
   "execution_count": 35,
   "metadata": {},
   "outputs": [],
   "source": [
    "target = 'xA90'\n",
    "X = df2.drop(target,axis=1)\n",
    "y = df2[target]"
   ]
  },
  {
   "cell_type": "code",
   "execution_count": 36,
   "metadata": {},
   "outputs": [],
   "source": [
    "#split the dataset into training (70%) and testing (30%) sets\n",
    "X_train,X_test,y_train,y_test = train_test_split(X,y,test_size=0.3,random_state=0) \n",
    "\n",
    "# Run standardization on X variables\n",
    "X_train_scaled = scale(X_train)\n",
    "X_test_scaled = scale(X_test)"
   ]
  },
  {
   "cell_type": "code",
   "execution_count": 37,
   "metadata": {},
   "outputs": [],
   "source": [
    "from sklearn.preprocessing import scale \n",
    "from sklearn.linear_model import LinearRegression, RidgeCV, LassoCV\n",
    "from sklearn.model_selection import KFold, cross_val_score, train_test_split\n",
    "from sklearn.metrics import mean_squared_error\n",
    "from sklearn.decomposition import PCA"
   ]
  },
  {
   "cell_type": "code",
   "execution_count": 38,
   "metadata": {},
   "outputs": [],
   "source": [
    "# Define cross-validation folds\n",
    "cv = KFold(n_splits=10, shuffle=True, random_state=42)\n",
    "\n",
    "# Linear Regression\n",
    "lin_reg = LinearRegression().fit(X_train_scaled, y_train)\n",
    "lr_score_train = -1 * cross_val_score(lin_reg, X_train_scaled, y_train, cv=cv, scoring='neg_root_mean_squared_error').mean()\n",
    "lr_score_test = mean_squared_error(y_test, lin_reg.predict(X_test_scaled), squared=False)\n",
    "\n",
    "# Lasso Regression\n",
    "lasso_reg = LassoCV().fit(X_train_scaled, y_train)\n",
    "lasso_score_train = -1 * cross_val_score(lasso_reg, X_train_scaled, y_train, cv=cv, scoring='neg_root_mean_squared_error').mean()\n",
    "lasso_score_test = mean_squared_error(y_test, lasso_reg.predict(X_test_scaled), squared=False)\n",
    "\n",
    "# Ridge Regression\n",
    "ridge_reg = RidgeCV().fit(X_train_scaled, y_train)\n",
    "ridge_score_train = -1 * cross_val_score(ridge_reg, X_train_scaled, y_train, cv=cv, scoring='neg_root_mean_squared_error').mean()\n",
    "ridge_score_test = mean_squared_error(y_test, ridge_reg.predict(X_test_scaled), squared=False)"
   ]
  },
  {
   "cell_type": "code",
   "execution_count": 39,
   "metadata": {},
   "outputs": [
    {
     "name": "stdout",
     "output_type": "stream",
     "text": [
      "0.038532985490181616 0.03889538412177756 0.03860132588402654\n"
     ]
    }
   ],
   "source": [
    "print(lr_score_test, lasso_score_test, ridge_score_test)"
   ]
  },
  {
   "cell_type": "code",
   "execution_count": 40,
   "metadata": {},
   "outputs": [
    {
     "data": {
      "text/html": [
       "<div>\n",
       "<style scoped>\n",
       "    .dataframe tbody tr th:only-of-type {\n",
       "        vertical-align: middle;\n",
       "    }\n",
       "\n",
       "    .dataframe tbody tr th {\n",
       "        vertical-align: top;\n",
       "    }\n",
       "\n",
       "    .dataframe thead th {\n",
       "        text-align: right;\n",
       "    }\n",
       "</style>\n",
       "<table border=\"1\" class=\"dataframe\">\n",
       "  <thead>\n",
       "    <tr style=\"text-align: right;\">\n",
       "      <th></th>\n",
       "      <th>0</th>\n",
       "      <th>1</th>\n",
       "      <th>2</th>\n",
       "      <th>3</th>\n",
       "      <th>4</th>\n",
       "      <th>5</th>\n",
       "      <th>6</th>\n",
       "      <th>7</th>\n",
       "      <th>8</th>\n",
       "    </tr>\n",
       "  </thead>\n",
       "  <tbody>\n",
       "    <tr>\n",
       "      <th>0</th>\n",
       "      <td>0.366750</td>\n",
       "      <td>-0.439456</td>\n",
       "      <td>0.156227</td>\n",
       "      <td>-0.157176</td>\n",
       "      <td>-0.299174</td>\n",
       "      <td>0.253783</td>\n",
       "      <td>0.685092</td>\n",
       "      <td>-0.000000e+00</td>\n",
       "      <td>-0.000000e+00</td>\n",
       "    </tr>\n",
       "    <tr>\n",
       "      <th>1</th>\n",
       "      <td>0.338315</td>\n",
       "      <td>-0.521831</td>\n",
       "      <td>0.155509</td>\n",
       "      <td>-0.131258</td>\n",
       "      <td>-0.283723</td>\n",
       "      <td>-0.012081</td>\n",
       "      <td>-0.700842</td>\n",
       "      <td>1.661214e-16</td>\n",
       "      <td>8.829688e-17</td>\n",
       "    </tr>\n",
       "    <tr>\n",
       "      <th>2</th>\n",
       "      <td>0.421781</td>\n",
       "      <td>0.141674</td>\n",
       "      <td>-0.273012</td>\n",
       "      <td>0.234536</td>\n",
       "      <td>-0.152082</td>\n",
       "      <td>-0.397635</td>\n",
       "      <td>0.062036</td>\n",
       "      <td>-4.985181e-01</td>\n",
       "      <td>-4.887485e-01</td>\n",
       "    </tr>\n",
       "    <tr>\n",
       "      <th>3</th>\n",
       "      <td>0.362492</td>\n",
       "      <td>0.188066</td>\n",
       "      <td>0.470443</td>\n",
       "      <td>0.148319</td>\n",
       "      <td>0.340957</td>\n",
       "      <td>0.081239</td>\n",
       "      <td>-0.027868</td>\n",
       "      <td>4.780483e-01</td>\n",
       "      <td>-4.876040e-01</td>\n",
       "    </tr>\n",
       "    <tr>\n",
       "      <th>4</th>\n",
       "      <td>0.430630</td>\n",
       "      <td>0.216179</td>\n",
       "      <td>-0.216345</td>\n",
       "      <td>-0.108951</td>\n",
       "      <td>-0.106389</td>\n",
       "      <td>-0.499334</td>\n",
       "      <td>0.070992</td>\n",
       "      <td>4.755164e-01</td>\n",
       "      <td>4.661976e-01</td>\n",
       "    </tr>\n",
       "  </tbody>\n",
       "</table>\n",
       "</div>"
      ],
      "text/plain": [
       "          0         1         2         3         4         5         6  \\\n",
       "0  0.366750 -0.439456  0.156227 -0.157176 -0.299174  0.253783  0.685092   \n",
       "1  0.338315 -0.521831  0.155509 -0.131258 -0.283723 -0.012081 -0.700842   \n",
       "2  0.421781  0.141674 -0.273012  0.234536 -0.152082 -0.397635  0.062036   \n",
       "3  0.362492  0.188066  0.470443  0.148319  0.340957  0.081239 -0.027868   \n",
       "4  0.430630  0.216179 -0.216345 -0.108951 -0.106389 -0.499334  0.070992   \n",
       "\n",
       "              7             8  \n",
       "0 -0.000000e+00 -0.000000e+00  \n",
       "1  1.661214e-16  8.829688e-17  \n",
       "2 -4.985181e-01 -4.887485e-01  \n",
       "3  4.780483e-01 -4.876040e-01  \n",
       "4  4.755164e-01  4.661976e-01  "
      ]
     },
     "execution_count": 40,
     "metadata": {},
     "output_type": "execute_result"
    }
   ],
   "source": [
    "# Generate all the principal components\n",
    "pca = PCA() # Default n_components = min(n_samples, n_features)\n",
    "X_train_pc = pca.fit_transform(X_train_scaled)\n",
    "\n",
    "# View first 5 rows of all principal components\n",
    "pd.DataFrame(pca.components_.T).loc[:4,:]"
   ]
  },
  {
   "cell_type": "code",
   "execution_count": 41,
   "metadata": {},
   "outputs": [
    {
     "data": {
      "text/plain": [
       "array([4.76316589e-01, 1.59110225e-01, 1.46543475e-01, 1.22818198e-01,\n",
       "       6.53034264e-02, 2.51316470e-02, 4.77644034e-03, 3.58778590e-33,\n",
       "       2.52069982e-33])"
      ]
     },
     "execution_count": 41,
     "metadata": {},
     "output_type": "execute_result"
    }
   ],
   "source": [
    "pca.explained_variance_ratio_"
   ]
  },
  {
   "cell_type": "code",
   "execution_count": 43,
   "metadata": {},
   "outputs": [
    {
     "data": {
      "text/plain": [
       "<matplotlib.lines.Line2D at 0x16a86938130>"
      ]
     },
     "execution_count": 43,
     "metadata": {},
     "output_type": "execute_result"
    },
    {
     "data": {
      "image/png": "[encoded data removed]",
      "text/plain": [
       "<Figure size 432x288 with 1 Axes>"
      ]
     },
     "metadata": {
      "needs_background": "light"
     },
     "output_type": "display_data"
    }
   ],
   "source": [
    "# Initialize linear regression instance\n",
    "lin_reg = LinearRegression()\n",
    "\n",
    "# Create empty list to store RMSE for each iteration\n",
    "rmse_list = []\n",
    "\n",
    "# Loop through different count of principal components for linear regression\n",
    "for i in range(1, X_train_pc.shape[1]+1):\n",
    "    rmse_score = -1 * cross_val_score(lin_reg, \n",
    "                                      X_train_pc[:,:i], # Use first k principal components\n",
    "                                      y_train, \n",
    "                                      cv=cv, \n",
    "                                      scoring='neg_root_mean_squared_error').mean()\n",
    "    rmse_list.append(rmse_score)\n",
    "    \n",
    "# Visual analysis - plot RMSE vs count of principal components used\n",
    "plt.plot(rmse_list, '-o')\n",
    "plt.xlabel('Number of principal components in regression')\n",
    "plt.ylabel('RMSE')\n",
    "plt.title('Quality')\n",
    "plt.xlim(xmin=-1);\n",
    "plt.xticks(np.arange(X_train_pc.shape[1]), np.arange(1, X_train_pc.shape[1]+1))\n",
    "plt.axhline(y=lr_score_train, color='g', linestyle='-')"
   ]
  },
  {
   "cell_type": "markdown",
   "metadata": {},
   "source": [
    "Looks like 6-7 principal components is the optimal"
   ]
  },
  {
   "cell_type": "code",
   "execution_count": 44,
   "metadata": {},
   "outputs": [
    {
     "data": {
      "text/plain": [
       "0.08262857142857148"
      ]
     },
     "execution_count": 44,
     "metadata": {},
     "output_type": "execute_result"
    }
   ],
   "source": [
    "y.mean()"
   ]
  },
  {
   "cell_type": "markdown",
   "metadata": {},
   "source": [
    "If the mean squared errors are 0.038532985490181616 0.03889538412177756 0.03860132588402654 for different regression models, the mean value of xA90 is 0.08262857142857148. Thus, there values are close enough to each other"
   ]
  },
  {
   "cell_type": "code",
   "execution_count": 52,
   "metadata": {},
   "outputs": [
    {
     "data": {
      "text/plain": [
       "0.03853298549018162"
      ]
     },
     "execution_count": 52,
     "metadata": {},
     "output_type": "execute_result"
    }
   ],
   "source": [
    "# Visually determine optimal number of principal components\n",
    "best_pc_num = 7\n",
    "# Train model with first 7 principal components\n",
    "lin_reg_pc = LinearRegression().fit(X_train_pc[:,:best_pc_num], y_train)\n",
    "\n",
    "# Get cross-validation RMSE (train set)\n",
    "pcr_score_train = -1 * cross_val_score(lin_reg_pc, \n",
    "                                       X_train_pc[:,:best_pc_num], \n",
    "                                       y_train, \n",
    "                                       cv=cv, \n",
    "                                       scoring='neg_root_mean_squared_error').mean()\n",
    "\n",
    "# Train model on training set\n",
    "lin_reg_pc = LinearRegression().fit(X_train_pc[:,:best_pc_num], y_train)\n",
    "\n",
    "# Get first 9 principal components of test set\n",
    "X_test_pc = pca.transform(X_test_scaled)[:,:best_pc_num]\n",
    "\n",
    "# Predict on test data\n",
    "preds = lin_reg_pc.predict(X_test_pc)\n",
    "pcr_score_test = mean_squared_error(y_test, preds, squared=False)\n",
    "\n",
    "pcr_score_test"
   ]
  },
  {
   "cell_type": "markdown",
   "metadata": {},
   "source": [
    "We see that the mean_squared_error is around 0.039 for Linear Regression, Lasso Regression,  Ridge Regression, and PCA regression with 7 components. We can conclude, that the variables are intercorrelated, and only xG90 does not give us enough information to predict xA90 in any way. However, if we know all the set of variables, the mean squared error is low enough, but still too close to the expected value of the xA90 variable. We can conclude, that the prediction of xA90 can not be effective if we deal with this data."
   ]
  }
 ],
 "metadata": {
  "kernelspec": {
   "display_name": "Python 3 (ipykernel)",
   "language": "python",
   "name": "python3"
  },
  "language_info": {
   "codemirror_mode": {
    "name": "ipython",
    "version": 3
   },
   "file_extension": ".py",
   "mimetype": "text/x-python",
   "name": "python",
   "nbconvert_exporter": "python",
   "pygments_lexer": "ipython3",
   "version": "3.9.16"
  },
  "vscode": {
   "interpreter": {
    "hash": "ed8e88c9092603f5c604b52f358e31b84ef56c994a59054b7891a45d175e344d"
   }
  }
 },
 "nbformat": 4,
 "nbformat_minor": 4
}
