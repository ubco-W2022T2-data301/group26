{
 "cells": [
  {
   "attachments": {},
   "cell_type": "markdown",
   "metadata": {},
   "source": [
    "# Ifaz Chowdhury "
   ]
  },
  {
   "attachments": {},
   "cell_type": "markdown",
   "metadata": {},
   "source": [
    "## Research question/interests\n",
    "\n",
    " ** I want to explore the relationship between xG90 and xA90, which basically helps assess the efficiency of a player in a 90 minute game by seeing how many goals and assists a player makes. This helps understand player contribution and player performance better. **"
   ]
  }
 ],
 "metadata": {},
 "nbformat": 4,
 "nbformat_minor": 2
}
